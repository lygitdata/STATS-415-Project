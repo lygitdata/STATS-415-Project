{
  "cells": [
    {
      "cell_type": "markdown",
      "metadata": {
        "id": "view-in-github",
        "colab_type": "text"
      },
      "source": [
        "<a href=\"https://colab.research.google.com/github/lygitdata/STATS-415-Project/blob/main/code/STATS_415_Kaggle_Li_Yuan.ipynb\" target=\"_parent\"><img src=\"https://colab.research.google.com/assets/colab-badge.svg\" alt=\"Open In Colab\"/></a>"
      ]
    },
    {
      "cell_type": "code",
      "execution_count": 1,
      "metadata": {
        "id": "DOAcp8-BsHzi"
      },
      "outputs": [],
      "source": [
        "# Import necessary libraries\n",
        "import random\n",
        "import pandas as pd\n",
        "import numpy as np\n",
        "import tensorflow as tf\n",
        "from tensorflow import keras\n",
        "from tensorflow.keras import layers\n",
        "from tensorflow.keras.models import Sequential\n",
        "from sklearn.model_selection import train_test_split, GridSearchCV, KFold, StratifiedKFold\n",
        "from sklearn import preprocessing\n",
        "from sklearn.metrics import mean_squared_error\n",
        "from sklearn.metrics import r2_score\n",
        "import matplotlib.pyplot as plt\n",
        "import xgboost as xgb\n",
        "from datetime import datetime\n",
        "# Runtime control\n",
        "runNN = False"
      ]
    },
    {
      "cell_type": "code",
      "source": [
        "def timer(start_time=None):\n",
        "    if not start_time:\n",
        "        start_time = datetime.now()\n",
        "        return start_time\n",
        "    elif start_time:\n",
        "        thour, temp_sec = divmod((datetime.now() - start_time).total_seconds(), 3600)\n",
        "        tmin, tsec = divmod(temp_sec, 60)\n",
        "        print('\\n Time taken: %i hours %i minutes and %s seconds.' % (thour, tmin, round(tsec, 2)))"
      ],
      "metadata": {
        "id": "WS52OECzmNhN"
      },
      "execution_count": 2,
      "outputs": []
    },
    {
      "cell_type": "markdown",
      "metadata": {
        "id": "qRxwUf2JsZQp"
      },
      "source": [
        "# Data Cleaning"
      ]
    },
    {
      "cell_type": "code",
      "source": [
        "# Import training set\n",
        "X_train = pd.read_csv('https://stats415.ly.gd.edu.kg/kaggleData/X_train.csv')\n",
        "y_train = pd.read_csv('https://stats415.ly.gd.edu.kg/kaggleData/y_train.csv')\n",
        "# Import testing set\n",
        "X_test = pd.read_csv('https://stats415.ly.gd.edu.kg/kaggleData/X_test.csv')\n",
        "y_sample = pd.read_csv('https://stats415.ly.gd.edu.kg/kaggleData/y_sample.csv')\n",
        "\n",
        "# Dummy variable transform\n",
        "categorical_cols = ['self_eval', 'teacher_eval', 'district']\n",
        "X_train = pd.get_dummies(X_train, columns=categorical_cols, drop_first=True)\n",
        "print(X_train.shape)\n",
        "X_test = pd.get_dummies(X_test, columns=categorical_cols, drop_first=True)\n",
        "print(X_test.shape)\n",
        "\n",
        "# Drop and save SEQN\n",
        "SEQN_X_train = X_train['SEQN']\n",
        "X_train = X_train.drop(columns=['SEQN'])\n",
        "SEQN_y_train = y_train['SEQN']\n",
        "y_train = y_train.drop(columns=['SEQN'])\n",
        "SEQN_X_test = X_test['SEQN']\n",
        "X_test = X_test.drop(columns=['SEQN'])"
      ],
      "metadata": {
        "colab": {
          "base_uri": "https://localhost:8080/"
        },
        "id": "Y7bPH6GeY60s",
        "outputId": "a53e3b29-4a4a-4252-9fac-5c2c0eb6ca65"
      },
      "execution_count": 3,
      "outputs": [
        {
          "output_type": "stream",
          "name": "stdout",
          "text": [
            "(8000, 65)\n",
            "(4000, 65)\n"
          ]
        }
      ]
    },
    {
      "cell_type": "code",
      "execution_count": 4,
      "metadata": {
        "id": "bEr93Qy-sb1_"
      },
      "outputs": [],
      "source": [
        "# Scale data\n",
        "scaler = preprocessing.StandardScaler()\n",
        "minmax = preprocessing.MinMaxScaler()\n",
        "X_train[['self_eval_2', 'self_eval_3', 'self_eval_4', 'self_eval_5',\n",
        "       'district_2', 'district_3', 'district_4', 'district_5', 'district_6',\n",
        "       'district_7']] = scaler.fit_transform(X_train[[\n",
        "       'self_eval_2', 'self_eval_3', 'self_eval_4', 'self_eval_5',\n",
        "       'district_2', 'district_3', 'district_4', 'district_5', 'district_6',\n",
        "       'district_7']])\n",
        "X_test[['self_eval_2', 'self_eval_3', 'self_eval_4', 'self_eval_5',\n",
        "       'district_2', 'district_3', 'district_4', 'district_5', 'district_6',\n",
        "       'district_7']] = scaler.fit_transform(X_test[[\n",
        "       'self_eval_2', 'self_eval_3', 'self_eval_4', 'self_eval_5',\n",
        "       'district_2', 'district_3', 'district_4', 'district_5', 'district_6',\n",
        "       'district_7']])\n",
        "X_train[['teacher_eval_2', 'teacher_eval_3',\n",
        "         'teacher_eval_4', 'teacher_eval_5']] = minmax.fit_transform(X_train[['teacher_eval_2', 'teacher_eval_3',\n",
        "                                                                              'teacher_eval_4', 'teacher_eval_5']])\n",
        "X_test[['teacher_eval_2', 'teacher_eval_3',\n",
        "        'teacher_eval_4', 'teacher_eval_5']] = minmax.fit_transform(X_test[['teacher_eval_2', 'teacher_eval_3',\n",
        "                                                                            'teacher_eval_4', 'teacher_eval_5']])\n",
        "# Convert data to numpy arrays\n",
        "X_train = X_train.to_numpy()\n",
        "y_train = y_train.to_numpy()\n",
        "X_test = X_test.to_numpy()"
      ]
    },
    {
      "cell_type": "markdown",
      "metadata": {
        "id": "UQxVJibItflw"
      },
      "source": [
        "# Model Training (Neural Network)"
      ]
    },
    {
      "cell_type": "code",
      "execution_count": 5,
      "metadata": {
        "id": "vAqAYYIBw1xi"
      },
      "outputs": [],
      "source": [
        "if runNN:\n",
        "  lr_schedule = keras.optimizers.schedules.ExponentialDecay(\n",
        "    initial_learning_rate=0.15,\n",
        "    decay_steps=2000,\n",
        "    decay_rate=0.9\n",
        "  )\n",
        "\n",
        "  callbacks = [\n",
        "    keras.callbacks.EarlyStopping(\n",
        "        monitor='val_loss',\n",
        "        patience=20,\n",
        "        restore_best_weights=True,\n",
        "        #mode='max'\n",
        "    ),\n",
        "    keras.callbacks.ModelCheckpoint(\n",
        "        \"best_model.h5\",\n",
        "        save_best_only=True,\n",
        "        monitor='val_loss',\n",
        "        #mode='max'\n",
        "    )\n",
        "  ]\n",
        "\n",
        "  def build_model():\n",
        "    nn_model = Sequential([\n",
        "        layers.Dense(units=4096, activation='elu'),\n",
        "        layers.BatchNormalization(),\n",
        "        layers.Dropout(0.3),\n",
        "        layers.Dense(units=2048, activation='elu'),\n",
        "        layers.BatchNormalization(),\n",
        "        layers.Dropout(0.5),\n",
        "        layers.Dense(units=512, activation='elu'),\n",
        "        layers.BatchNormalization(),\n",
        "        layers.Dropout(0.3),\n",
        "        layers.Dense(units=1, activation='linear')\n",
        "    ])\n",
        "\n",
        "    nn_model.compile(\n",
        "        optimizer=keras.optimizers.Adam(learning_rate=lr_schedule),\n",
        "        loss=\"mean_squared_error\",\n",
        "        metrics=[tf.keras.metrics.R2Score(name='r2_score')]\n",
        "    )\n",
        "\n",
        "    return nn_model\n",
        "\n",
        "  kf = KFold(n_splits=15, shuffle=True, random_state=88)\n",
        "\n",
        "  mse_scores = []\n",
        "  r2_scores = []\n",
        "  i = 0\n",
        "  for train_index, val_index in kf.split(X_train):\n",
        "    i = i + 1\n",
        "    X_train_fold, X_val_fold = X_train[train_index], X_train[val_index]\n",
        "    y_train_fold, y_val_fold = y_train[train_index], y_train[val_index]\n",
        "\n",
        "    nn_model = build_model()\n",
        "    history = nn_model.fit(\n",
        "        X_train_fold, y_train_fold,\n",
        "        epochs=200,\n",
        "        batch_size=512,\n",
        "        validation_data=(X_val_fold, y_val_fold),\n",
        "        callbacks=callbacks,\n",
        "        verbose=0\n",
        "    )\n",
        "\n",
        "    y_val_pred = nn_model.predict(X_val_fold, verbose=False)\n",
        "    mse = mean_squared_error(y_val_fold, y_val_pred)\n",
        "    mse_scores.append(mse)\n",
        "    r2 = r2_score(y_val_fold, y_val_pred)\n",
        "    r2_scores.append(r2)\n",
        "    print(i, \"Fold | Validation MSE =\", round(mse, 5), \" | Validation Adjusted R^2 =\", round(r2, 5))"
      ]
    },
    {
      "cell_type": "code",
      "source": [
        "if runNN:\n",
        "  print(\"Mean MSE =\", np.mean(mse_scores))\n",
        "  print(\"Std Dev MSE =\", np.std(mse_scores))\n",
        "  print(\"Mean Adj. R^2 =\", np.mean(r2_scores))\n",
        "  print(\"Std Dev Adj. R^2 = \", np.std(r2_scores))\n",
        "\n",
        "  # Plot MSEs\n",
        "  plt.figure(figsize=(12, 6))\n",
        "  plt.subplot(1, 2, 1)\n",
        "  plt.plot(range(1, len(mse_scores) + 1), mse_scores, marker='o', linestyle='-', color='b')\n",
        "  plt.axhline(y=np.mean(mse_scores), color='r', linestyle='--', label='Mean MSE')\n",
        "  plt.title('MSE for Each Fold')\n",
        "  plt.xlabel('Fold')\n",
        "  plt.ylabel('MSE')\n",
        "  plt.legend()\n",
        "\n",
        "  # Plot R^2s\n",
        "  plt.subplot(1, 2, 2)\n",
        "  plt.plot(range(1, len(r2_scores) + 1), r2_scores, marker='o', linestyle='-', color='g')\n",
        "  plt.axhline(y=np.mean(r2_scores), color='r', linestyle='--', label='Mean R^2')\n",
        "  plt.title('R^2 for Each Fold')\n",
        "  plt.xlabel('Fold')\n",
        "  plt.ylabel('R^2')\n",
        "  plt.legend()\n",
        "\n",
        "  plt.tight_layout()\n",
        "  plt.show()"
      ],
      "metadata": {
        "id": "Fxn6qi_X-YrJ"
      },
      "execution_count": 6,
      "outputs": []
    },
    {
      "cell_type": "code",
      "execution_count": 7,
      "metadata": {
        "id": "qh2Ujc5rAKfu"
      },
      "outputs": [],
      "source": [
        "if runNN:\n",
        "  y_test = nn_model.predict(X_test)\n",
        "  output = pd.DataFrame({'SEQN': SEQN_X_test.values.flatten(), 'y': y_test.flatten()})\n",
        "  out = y_sample.merge(output, on=['SEQN'], how=\"left\")\n",
        "  out = out.drop(columns=['y_x'])\n",
        "  out = out.rename(columns={'y_y': 'y'})\n",
        "  out"
      ]
    },
    {
      "cell_type": "code",
      "execution_count": 8,
      "metadata": {
        "id": "mkAGQDAGdRJF"
      },
      "outputs": [],
      "source": [
        "if runNN:\n",
        "  out.to_csv('nn_result.csv', index=False)"
      ]
    },
    {
      "cell_type": "markdown",
      "source": [
        "# Model Training (XGBoost)"
      ],
      "metadata": {
        "id": "dLu8WwukKY_a"
      }
    },
    {
      "cell_type": "code",
      "source": [
        "params = {\n",
        "    'objective': ['reg:squarederror'],\n",
        "    'eval_metric': ['rmse'],\n",
        "    'gamma': [0.5, 0.75, 1, 1.25, 1.5, 2, 2.5, 3, 4, 5],\n",
        "    'eta': [0.001, 0.0015, 0.002, 0.003, 0.005, 0.01, 0.05, 0.1],\n",
        "    'max_depth': [3, 4, 5, 6, 9, 10, 11, 12],\n",
        "    'subsample': [0.5, 0.6, 0.7, 0.8, 0.9, 1.0],\n",
        "    'colsample_bytree': [0.5, 0.6, 0.7, 0.8, 0.9, 1.0],\n",
        "    'seed': [88],\n",
        "    'n_estimators': [100, 150, 200, 250, 300, 350, 400,\n",
        "                  450, 500, 550, 600, 650, 700, 750,\n",
        "                  800, 850, 900, 950, 1000]\n",
        "}\n",
        "xgb_model = xgb.XGBRegressor()"
      ],
      "metadata": {
        "id": "qY72gNTpmIT9"
      },
      "execution_count": 9,
      "outputs": []
    },
    {
      "cell_type": "code",
      "source": [
        "kf = KFold(n_splits=2, shuffle=True, random_state=88)\n",
        "grid_search = GridSearchCV(estimator = xgb_model,\n",
        "                           param_grid = params,\n",
        "                           scoring='neg_mean_squared_error',\n",
        "                           cv = kf,\n",
        "                           verbose = 3,\n",
        "                           n_jobs = -1)\n",
        "start_time = timer(None)\n",
        "grid_search.fit(X_train, y_train)\n",
        "timer(start_time)\n",
        "print('\\n All results:')\n",
        "print(grid_search.cv_results_)"
      ],
      "metadata": {
        "colab": {
          "base_uri": "https://localhost:8080/"
        },
        "id": "b5_ZWfZuoGwq",
        "outputId": "3ac5e48e-e2e3-4088-e75c-3529380e2b00"
      },
      "execution_count": 20,
      "outputs": [
        {
          "output_type": "stream",
          "name": "stdout",
          "text": [
            "Fitting 2 folds for each of 16 candidates, totalling 32 fits\n",
            "\n",
            " Time taken: 0 hours 0 minutes and 9.87 seconds.\n",
            "\n",
            " All results:\n",
            "{'mean_fit_time': array([0.22401047, 0.3731693 , 0.54884183, 0.66962457, 0.36117804,\n",
            "       0.43946612, 0.55075133, 0.69405842, 0.37921083, 0.45218647,\n",
            "       0.54179049, 0.6857785 , 0.36458433, 0.44151497, 0.54542637,\n",
            "       0.6224798 ]), 'std_fit_time': array([0.00560665, 0.00361764, 0.01063669, 0.06315017, 0.0014466 ,\n",
            "       0.00859129, 0.02283084, 0.01307511, 0.00585473, 0.01164591,\n",
            "       0.01946473, 0.01042831, 0.00391448, 0.00516343, 0.00621748,\n",
            "       0.05755293]), 'mean_score_time': array([0.01074207, 0.0114584 , 0.01597524, 0.01693201, 0.01704383,\n",
            "       0.01241589, 0.01396489, 0.01566994, 0.01223004, 0.01403797,\n",
            "       0.01412296, 0.02002358, 0.01470375, 0.01480889, 0.01232576,\n",
            "       0.01323938]), 'std_score_time': array([0.00372469, 0.00052881, 0.00541925, 0.00175786, 0.00333166,\n",
            "       0.00174379, 0.00053072, 0.00154793, 0.00064909, 0.00173771,\n",
            "       0.00135636, 0.00157213, 0.00317693, 0.00143862, 0.00091195,\n",
            "       0.00513625]), 'param_colsample_bytree': masked_array(data=[0.5, 0.5, 0.5, 0.5, 0.5, 0.5, 0.5, 0.5, 0.5, 0.5, 0.5,\n",
            "                   0.5, 0.5, 0.5, 0.5, 0.5],\n",
            "             mask=[False, False, False, False, False, False, False, False,\n",
            "                   False, False, False, False, False, False, False, False],\n",
            "       fill_value='?',\n",
            "            dtype=object), 'param_eta': masked_array(data=[0.1, 0.1, 0.1, 0.1, 0.1, 0.1, 0.1, 0.1, 0.2, 0.2, 0.2,\n",
            "                   0.2, 0.2, 0.2, 0.2, 0.2],\n",
            "             mask=[False, False, False, False, False, False, False, False,\n",
            "                   False, False, False, False, False, False, False, False],\n",
            "       fill_value='?',\n",
            "            dtype=object), 'param_eval_metric': masked_array(data=['rmse', 'rmse', 'rmse', 'rmse', 'rmse', 'rmse', 'rmse',\n",
            "                   'rmse', 'rmse', 'rmse', 'rmse', 'rmse', 'rmse', 'rmse',\n",
            "                   'rmse', 'rmse'],\n",
            "             mask=[False, False, False, False, False, False, False, False,\n",
            "                   False, False, False, False, False, False, False, False],\n",
            "       fill_value='?',\n",
            "            dtype=object), 'param_gamma': masked_array(data=[0.5, 0.5, 0.5, 0.5, 0.75, 0.75, 0.75, 0.75, 0.5, 0.5,\n",
            "                   0.5, 0.5, 0.75, 0.75, 0.75, 0.75],\n",
            "             mask=[False, False, False, False, False, False, False, False,\n",
            "                   False, False, False, False, False, False, False, False],\n",
            "       fill_value='?',\n",
            "            dtype=object), 'param_max_depth': masked_array(data=[3, 3, 4, 4, 3, 3, 4, 4, 3, 3, 4, 4, 3, 3, 4, 4],\n",
            "             mask=[False, False, False, False, False, False, False, False,\n",
            "                   False, False, False, False, False, False, False, False],\n",
            "       fill_value='?',\n",
            "            dtype=object), 'param_n_estimators': masked_array(data=[30, 40, 30, 40, 30, 40, 30, 40, 30, 40, 30, 40, 30, 40,\n",
            "                   30, 40],\n",
            "             mask=[False, False, False, False, False, False, False, False,\n",
            "                   False, False, False, False, False, False, False, False],\n",
            "       fill_value='?',\n",
            "            dtype=object), 'param_objective': masked_array(data=['reg:squarederror', 'reg:squarederror',\n",
            "                   'reg:squarederror', 'reg:squarederror',\n",
            "                   'reg:squarederror', 'reg:squarederror',\n",
            "                   'reg:squarederror', 'reg:squarederror',\n",
            "                   'reg:squarederror', 'reg:squarederror',\n",
            "                   'reg:squarederror', 'reg:squarederror',\n",
            "                   'reg:squarederror', 'reg:squarederror',\n",
            "                   'reg:squarederror', 'reg:squarederror'],\n",
            "             mask=[False, False, False, False, False, False, False, False,\n",
            "                   False, False, False, False, False, False, False, False],\n",
            "       fill_value='?',\n",
            "            dtype=object), 'param_seed': masked_array(data=[88, 88, 88, 88, 88, 88, 88, 88, 88, 88, 88, 88, 88, 88,\n",
            "                   88, 88],\n",
            "             mask=[False, False, False, False, False, False, False, False,\n",
            "                   False, False, False, False, False, False, False, False],\n",
            "       fill_value='?',\n",
            "            dtype=object), 'param_subsample': masked_array(data=[0.5, 0.5, 0.5, 0.5, 0.5, 0.5, 0.5, 0.5, 0.5, 0.5, 0.5,\n",
            "                   0.5, 0.5, 0.5, 0.5, 0.5],\n",
            "             mask=[False, False, False, False, False, False, False, False,\n",
            "                   False, False, False, False, False, False, False, False],\n",
            "       fill_value='?',\n",
            "            dtype=object), 'params': [{'colsample_bytree': 0.5, 'eta': 0.1, 'eval_metric': 'rmse', 'gamma': 0.5, 'max_depth': 3, 'n_estimators': 30, 'objective': 'reg:squarederror', 'seed': 88, 'subsample': 0.5}, {'colsample_bytree': 0.5, 'eta': 0.1, 'eval_metric': 'rmse', 'gamma': 0.5, 'max_depth': 3, 'n_estimators': 40, 'objective': 'reg:squarederror', 'seed': 88, 'subsample': 0.5}, {'colsample_bytree': 0.5, 'eta': 0.1, 'eval_metric': 'rmse', 'gamma': 0.5, 'max_depth': 4, 'n_estimators': 30, 'objective': 'reg:squarederror', 'seed': 88, 'subsample': 0.5}, {'colsample_bytree': 0.5, 'eta': 0.1, 'eval_metric': 'rmse', 'gamma': 0.5, 'max_depth': 4, 'n_estimators': 40, 'objective': 'reg:squarederror', 'seed': 88, 'subsample': 0.5}, {'colsample_bytree': 0.5, 'eta': 0.1, 'eval_metric': 'rmse', 'gamma': 0.75, 'max_depth': 3, 'n_estimators': 30, 'objective': 'reg:squarederror', 'seed': 88, 'subsample': 0.5}, {'colsample_bytree': 0.5, 'eta': 0.1, 'eval_metric': 'rmse', 'gamma': 0.75, 'max_depth': 3, 'n_estimators': 40, 'objective': 'reg:squarederror', 'seed': 88, 'subsample': 0.5}, {'colsample_bytree': 0.5, 'eta': 0.1, 'eval_metric': 'rmse', 'gamma': 0.75, 'max_depth': 4, 'n_estimators': 30, 'objective': 'reg:squarederror', 'seed': 88, 'subsample': 0.5}, {'colsample_bytree': 0.5, 'eta': 0.1, 'eval_metric': 'rmse', 'gamma': 0.75, 'max_depth': 4, 'n_estimators': 40, 'objective': 'reg:squarederror', 'seed': 88, 'subsample': 0.5}, {'colsample_bytree': 0.5, 'eta': 0.2, 'eval_metric': 'rmse', 'gamma': 0.5, 'max_depth': 3, 'n_estimators': 30, 'objective': 'reg:squarederror', 'seed': 88, 'subsample': 0.5}, {'colsample_bytree': 0.5, 'eta': 0.2, 'eval_metric': 'rmse', 'gamma': 0.5, 'max_depth': 3, 'n_estimators': 40, 'objective': 'reg:squarederror', 'seed': 88, 'subsample': 0.5}, {'colsample_bytree': 0.5, 'eta': 0.2, 'eval_metric': 'rmse', 'gamma': 0.5, 'max_depth': 4, 'n_estimators': 30, 'objective': 'reg:squarederror', 'seed': 88, 'subsample': 0.5}, {'colsample_bytree': 0.5, 'eta': 0.2, 'eval_metric': 'rmse', 'gamma': 0.5, 'max_depth': 4, 'n_estimators': 40, 'objective': 'reg:squarederror', 'seed': 88, 'subsample': 0.5}, {'colsample_bytree': 0.5, 'eta': 0.2, 'eval_metric': 'rmse', 'gamma': 0.75, 'max_depth': 3, 'n_estimators': 30, 'objective': 'reg:squarederror', 'seed': 88, 'subsample': 0.5}, {'colsample_bytree': 0.5, 'eta': 0.2, 'eval_metric': 'rmse', 'gamma': 0.75, 'max_depth': 3, 'n_estimators': 40, 'objective': 'reg:squarederror', 'seed': 88, 'subsample': 0.5}, {'colsample_bytree': 0.5, 'eta': 0.2, 'eval_metric': 'rmse', 'gamma': 0.75, 'max_depth': 4, 'n_estimators': 30, 'objective': 'reg:squarederror', 'seed': 88, 'subsample': 0.5}, {'colsample_bytree': 0.5, 'eta': 0.2, 'eval_metric': 'rmse', 'gamma': 0.75, 'max_depth': 4, 'n_estimators': 40, 'objective': 'reg:squarederror', 'seed': 88, 'subsample': 0.5}], 'split0_test_score': array([-1.6461    , -1.56719116, -1.50673455, -1.41044815, -1.6461    ,\n",
            "       -1.56719116, -1.50673455, -1.41044815, -1.43462924, -1.33291254,\n",
            "       -1.32475743, -1.20963692, -1.43462924, -1.33291254, -1.32475743,\n",
            "       -1.20963692]), 'split1_test_score': array([-1.64402082, -1.55513638, -1.49706275, -1.40207193, -1.64402082,\n",
            "       -1.55513638, -1.49706275, -1.4023081 , -1.43360846, -1.32238754,\n",
            "       -1.25573333, -1.15681846, -1.43360846, -1.32238754, -1.25573333,\n",
            "       -1.15681846]), 'mean_test_score': array([-1.64506041, -1.56116377, -1.50189865, -1.40626004, -1.64506041,\n",
            "       -1.56116377, -1.50189865, -1.40637813, -1.43411885, -1.32765004,\n",
            "       -1.29024538, -1.18322769, -1.43411885, -1.32765004, -1.29024538,\n",
            "       -1.18322769]), 'std_test_score': array([0.00103959, 0.00602739, 0.0048359 , 0.00418811, 0.00103959,\n",
            "       0.00602739, 0.0048359 , 0.00407003, 0.00051039, 0.0052625 ,\n",
            "       0.03451205, 0.02640923, 0.00051039, 0.0052625 , 0.03451205,\n",
            "       0.02640923]), 'rank_test_score': array([15, 13, 11,  7, 15, 13, 11,  8,  9,  5,  3,  1,  9,  5,  3,  1],\n",
            "      dtype=int32)}\n"
          ]
        }
      ]
    },
    {
      "cell_type": "code",
      "source": [
        "best_model = grid_search.best_estimator_\n",
        "y_pred = best_model.predict(X_train)\n",
        "mse = mean_squared_error(y_train, y_pred)\n",
        "r2 = r2_score(y_train, y_pred)\n",
        "print('\\n Best Model:')\n",
        "print('MSE:', mse)\n",
        "print('R^2:', r2)\n",
        "print('Best Hyperparameters:', grid_search.best_params_)"
      ],
      "metadata": {
        "colab": {
          "base_uri": "https://localhost:8080/"
        },
        "id": "8kTF0dd-uslx",
        "outputId": "4c64e592-55e5-446b-a49f-80690ac64601"
      },
      "execution_count": 21,
      "outputs": [
        {
          "output_type": "stream",
          "name": "stdout",
          "text": [
            "\n",
            " Best Model:\n",
            "MSE: 0.8173064984807059\n",
            "R^2: 0.6464941941534916\n",
            "Best Hyperparameters: {'colsample_bytree': 0.5, 'eta': 0.2, 'eval_metric': 'rmse', 'gamma': 0.5, 'max_depth': 4, 'n_estimators': 40, 'objective': 'reg:squarederror', 'seed': 88, 'subsample': 0.5}\n"
          ]
        }
      ]
    }
  ],
  "metadata": {
    "accelerator": "GPU",
    "colab": {
      "provenance": [],
      "collapsed_sections": [
        "qRxwUf2JsZQp",
        "UQxVJibItflw"
      ],
      "gpuType": "T4",
      "include_colab_link": true
    },
    "kernelspec": {
      "display_name": "Python 3",
      "name": "python3"
    },
    "language_info": {
      "name": "python"
    }
  },
  "nbformat": 4,
  "nbformat_minor": 0
}